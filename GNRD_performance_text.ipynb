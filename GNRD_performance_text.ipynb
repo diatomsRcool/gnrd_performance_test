{
 "cells": [
  {
   "cell_type": "code",
   "execution_count": 36,
   "metadata": {
    "collapsed": false
   },
   "outputs": [
    {
     "name": "stdout",
     "output_type": "stream",
     "text": [
      "219\n"
     ]
    },
    {
     "data": {
      "text/plain": [
       "True"
      ]
     },
     "execution_count": 36,
     "metadata": {},
     "output_type": "execute_result"
    }
   ],
   "source": [
    "#Import all the libraries we need\n",
    "import os\n",
    "import json\n",
    "import pandas as pd\n",
    "\n",
    "#Get a list of all the folders. The name of the folder is also the id number for the data package. Each folder\n",
    "#contains the text of the pdf as a txt file and the json result from GNRD.\n",
    "packages = []\n",
    "annotation_file = open('dryad_results.txt', 'r')\n",
    "next(annotation_file)\n",
    "for line in annotation_file:\n",
    "    row = line.split('\\t')\n",
    "    data_package = row[1]\n",
    "    if data_package in packages:\n",
    "        pass\n",
    "    else:\n",
    "        packages.append(data_package)\n",
    "#packages = next(os.walk('pdf_text'))[1]\n",
    "packages.remove('133')\n",
    "print(len(packages))\n",
    "'110' in packages"
   ]
  },
  {
   "cell_type": "code",
   "execution_count": 37,
   "metadata": {
    "collapsed": false
   },
   "outputs": [],
   "source": [
    "#Iterate over all the folders and grab the json results from each. From the json pick out the name that\n",
    "#GNRD found and the \"odds\". The higher the odds the more likely the string is an actual name.\n",
    "gnrd_results = {}\n",
    "tot_words = {}\n",
    "for p in packages:\n",
    "    gnrd_names = []\n",
    "    if p != '133':\n",
    "        [data_file] = [x for x in os.listdir('pdf_text/' + p) if x.endswith(\".json\")]\n",
    "        data = open('pdf_text/' + p + '/' + data_file,'r')\n",
    "        result = json.load(data)\n",
    "        metadata = result['metadata']\n",
    "        total_words = metadata['total_words']\n",
    "        names = result['names']\n",
    "        if names == None:\n",
    "            pass\n",
    "        else:\n",
    "            for n in names:\n",
    "                string = n['name']\n",
    "                try:\n",
    "                    odds = n['odds']\n",
    "                except KeyError:\n",
    "                    odds = 0\n",
    "                gnrd_names.append(tuple([string,odds]))\n",
    "        gnrd_results[p] = gnrd_names\n",
    "        tot_words[p] = total_words\n",
    "#print(gnrd_results['350'])"
   ]
  },
  {
   "cell_type": "code",
   "execution_count": 38,
   "metadata": {
    "collapsed": true
   },
   "outputs": [],
   "source": [
    "#Initialize the dictionary for the human annotator data\n",
    "annotator_results = {}\n",
    "for p in packages:\n",
    "    annotator_results[p]=[]"
   ]
  },
  {
   "cell_type": "code",
   "execution_count": 39,
   "metadata": {
    "collapsed": false
   },
   "outputs": [
    {
     "name": "stdout",
     "output_type": "stream",
     "text": [
      "completed successfully\n"
     ]
    }
   ],
   "source": [
    "#Read the file that contains the names found by the human annotators. Go over every row of the file and create a\n",
    "#dictionary using the data package ID number as the key and a list of the name strings as the value.\n",
    "# the name string is in a tuple with the type of string, i.e. scientific or vernacular name\n",
    "annotation_file.seek(0)\n",
    "next(annotation_file)\n",
    "for line in annotation_file:\n",
    "    row = line.split('\\t')\n",
    "    string = row[0]\n",
    "    data_package = row[1]\n",
    "    source_type = row[2]\n",
    "    source = row[3]\n",
    "    string_type = row[6]\n",
    "    file_type = row[7]#this is wrong for the publication files\n",
    "    if source_type == 'data' or source == 'GNRD_1':\n",
    "        continue\n",
    "    else:\n",
    "        try:\n",
    "            ls = annotator_results[data_package]\n",
    "        except KeyError:\n",
    "            print('possible missing data package')\n",
    "            print(row)\n",
    "        ls.append(tuple([string,string_type]))\n",
    "        annotator_results[data_package] = ls\n",
    "print('completed successfully')\n",
    "#print(annotator_results['350'])"
   ]
  },
  {
   "cell_type": "code",
   "execution_count": 40,
   "metadata": {
    "collapsed": false
   },
   "outputs": [
    {
     "name": "stdout",
     "output_type": "stream",
     "text": [
      "    data_package true_positives returned_results annotator_results precision  \\\n",
      "0              2            101              102               106  0.990196   \n",
      "1              6              0                0                 0      NULL   \n",
      "2             12              0                1                 0      NULL   \n",
      "3             18              3                6                56       0.5   \n",
      "4             22            138              142               153  0.971831   \n",
      "5             29            130              134               137  0.970149   \n",
      "6             39             48               56                56  0.857143   \n",
      "7             45             13               17                17  0.764706   \n",
      "8             51             44               46               109  0.956522   \n",
      "9             56              2                3                 2  0.666667   \n",
      "10            61              3                4                 3      0.75   \n",
      "11            67              0                1                 1         0   \n",
      "12            78             19               19                24         1   \n",
      "13            84              6               11                13  0.545455   \n",
      "14            88              2                3                28  0.666667   \n",
      "15            94             47               58                64  0.810345   \n",
      "16           100             74               80               128     0.925   \n",
      "17           104             10               13                13  0.769231   \n",
      "18           110             47               56                54  0.839286   \n",
      "19           117              5                6                 5  0.833333   \n",
      "20           121             25               32                29   0.78125   \n",
      "21           127             12               14                18  0.857143   \n",
      "22           137             10               20                19       0.5   \n",
      "23           143             21               25                24      0.84   \n",
      "24           149              6                8                 9      0.75   \n",
      "25           153            200              223               206  0.896861   \n",
      "26           160              0                1                 1         0   \n",
      "27           166              0                0                 0      NULL   \n",
      "28           170           3420             3429              3527  0.997375   \n",
      "29           176              0                0                 3      NULL   \n",
      "..           ...            ...              ...               ...       ...   \n",
      "189         1316              2                4                 3       0.5   \n",
      "190         1326             38               50                45      0.76   \n",
      "191         1332             86              106               150  0.811321   \n",
      "192         1338              2                4                 3       0.5   \n",
      "193         1349              5                7                 6  0.714286   \n",
      "194         1359             30               37               210  0.810811   \n",
      "195         1365             18               18                19         1   \n",
      "196         1371             15               19                19  0.789474   \n",
      "197         1375              4                4                 4         1   \n",
      "198         1381              3                4                 5      0.75   \n",
      "199         1388              2                2                 3         1   \n",
      "200         1392              7                9                10  0.777778   \n",
      "201         1398             10               13                16  0.769231   \n",
      "202         1404              6                8                 9      0.75   \n",
      "203         1414              9               12                10      0.75   \n",
      "204         1420             12               13                16  0.923077   \n",
      "205         1431              2                2                 3         1   \n",
      "206         1437             11               12                12  0.916667   \n",
      "207         1441              6               10                 8       0.6   \n",
      "208         1447             12               14                13  0.857143   \n",
      "209         1453              0                0                 0      NULL   \n",
      "210         1457             14               19                19  0.736842   \n",
      "211         1463             54               56                56  0.964286   \n",
      "212         1469             11               13                12  0.846154   \n",
      "213         1473             10               11                12  0.909091   \n",
      "214         1480             48               50                52      0.96   \n",
      "215         1502              4                4                 5         1   \n",
      "216         1508              8                9                 8  0.888889   \n",
      "217         1519              3                7                 3  0.428571   \n",
      "218         1523              0               17                 0      NULL   \n",
      "\n",
      "        recall         F1 total_words  \n",
      "0      0.95283   0.971154        7020  \n",
      "1         NULL       NULL        3637  \n",
      "2         NULL       NULL        6530  \n",
      "3    0.0535714  0.0967742        3037  \n",
      "4     0.901961   0.935593        9253  \n",
      "5     0.948905    0.95941        8673  \n",
      "6     0.857143   0.857143        9714  \n",
      "7     0.764706   0.764706        7521  \n",
      "8      0.40367   0.567742       11858  \n",
      "9            1        0.8        5143  \n",
      "10           1   0.857143        2569  \n",
      "11           0       NULL        7144  \n",
      "12    0.791667   0.883721        5315  \n",
      "13    0.461538        0.5        5425  \n",
      "14   0.0714286   0.129032        5324  \n",
      "15    0.734375   0.770492        7060  \n",
      "16    0.578125   0.711538        7888  \n",
      "17    0.769231   0.769231        9477  \n",
      "18     0.87037   0.854545        7931  \n",
      "19           1   0.909091        6421  \n",
      "20    0.862069   0.819672        7468  \n",
      "21    0.666667       0.75        7379  \n",
      "22    0.526316   0.512821        3090  \n",
      "23       0.875   0.857143        3816  \n",
      "24    0.666667   0.705882        8113  \n",
      "25    0.970874   0.932401       14729  \n",
      "26           0       NULL        5218  \n",
      "27        NULL       NULL        3710  \n",
      "28    0.969663   0.983324       16803  \n",
      "29        NULL       NULL        2308  \n",
      "..         ...        ...         ...  \n",
      "189   0.666667   0.571429        6944  \n",
      "190   0.844444        0.8        7848  \n",
      "191   0.573333   0.671875       14625  \n",
      "192   0.666667   0.571429        6923  \n",
      "193   0.833333   0.769231        7320  \n",
      "194   0.142857   0.242915        5824  \n",
      "195   0.947368   0.972973        8545  \n",
      "196   0.789474   0.789474        7643  \n",
      "197          1          1        7019  \n",
      "198        0.6   0.666667        3461  \n",
      "199   0.666667        0.8        6944  \n",
      "200        0.7   0.736842       10183  \n",
      "201      0.625   0.689655        5099  \n",
      "202   0.666667   0.705882        5799  \n",
      "203        0.9   0.818182        7455  \n",
      "204       0.75   0.827586        8571  \n",
      "205   0.666667        0.8        3824  \n",
      "206   0.916667   0.916667        2992  \n",
      "207       0.75   0.666667        8055  \n",
      "208   0.923077   0.888889        5351  \n",
      "209       NULL       NULL        5148  \n",
      "210   0.736842   0.736842        7594  \n",
      "211   0.964286   0.964286        5996  \n",
      "212   0.916667       0.88        3317  \n",
      "213   0.833333   0.869565        2839  \n",
      "214   0.923077   0.941176        6711  \n",
      "215        0.8   0.888889        3769  \n",
      "216          1   0.941176        8205  \n",
      "217          1        0.6        7782  \n",
      "218       NULL       NULL        8626  \n",
      "\n",
      "[219 rows x 8 columns]\n"
     ]
    }
   ],
   "source": [
    "#Let's compare the list of names returned by GNRD with the list of names returned by the annotators\n",
    "#for now, let's ignore the vernacular names in the annotator data\n",
    "\n",
    "df = pd.DataFrame(columns=['data_package','true_positives','returned_results','annotator_results','precision',\n",
    "                           'recall','F1','total_words'])\n",
    "\n",
    "odds = 2500.0\n",
    "\n",
    "for p in packages:\n",
    "    #grab the list for the data package from the gnrd results and the annotator results.\n",
    "    #separate the name strings from the odds value in the gnrd list and the string type in the annotator list\n",
    "    gnrd = gnrd_results[p] #name string and odds value\n",
    "    human = annotator_results[p] #name string and string type\n",
    "    gnrd_string = []\n",
    "    for n,s in gnrd:\n",
    "        if s > odds:\n",
    "            gnrd_string.append(n)\n",
    "        else:\n",
    "            continue\n",
    "    gnrd_set = set(gnrd_string)\n",
    "    human_string = []\n",
    "    for n,s in human:\n",
    "        if s != 'vernacular': #lets ignore vernacular names for the moment\n",
    "            human_string.append(n)\n",
    "    human_set = set(human_string)\n",
    "    #now we have a set of name strings for gnrd and a set for the annotators\n",
    "    #let's compare them\n",
    "    g = len(gnrd_set) #total strings returned by GNRD\n",
    "    h = len(human_set) #total strings returned by annotator\n",
    "    overlap_set = gnrd_set.intersection(human_set) #this is the set of strings that are in the gnrd and annotator lists\n",
    "    o = len(overlap_set)\n",
    "    gnrd_only = gnrd_set.difference(human_set) #what is in gnrd list that is not in annotator list - false positives\n",
    "    human_only = human_set.difference(gnrd_set) #what is in annotator list that is not in gnrd list - false negatives\n",
    "    go = len(gnrd_only)\n",
    "    ho = len(human_only)\n",
    "    if go + o == g and ho + o == h: #adding a sanity check\n",
    "        pass\n",
    "    else:\n",
    "        print('problem')\n",
    "    if g == 0 or h == 0:\n",
    "        precision = 'NULL'\n",
    "        recall = 'NULL'\n",
    "        F1 = 'NULL'\n",
    "    else:\n",
    "        precision = o / g\n",
    "        recall = o / h\n",
    "        if precision == 0 and recall == 0:\n",
    "            F1 = 'NULL'\n",
    "        else:\n",
    "            F1 = 2*((precision*recall)/(precision+recall))\n",
    "    #print(df)\n",
    "    y = {'data_package':p,'true_positives':o,'returned_results':g,'annotator_results':h,\n",
    "                    'precision':precision,'recall':recall,'F1':F1,'total_words':tot_words[p]}\n",
    "    df = df.append(y,ignore_index=True)\n",
    "print(df)"
   ]
  },
  {
   "cell_type": "code",
   "execution_count": 41,
   "metadata": {
    "collapsed": false
   },
   "outputs": [
    {
     "name": "stdout",
     "output_type": "stream",
     "text": [
      "True Positives 7605\n",
      "Returned Results 8406\n",
      "Annotator Results 9786\n",
      "Total Words 1589064\n"
     ]
    }
   ],
   "source": [
    "#Now we have a dataframe that contains performance data for each pdf \n",
    "#let's calculate performance overall\n",
    "TOT = df.sum(axis=0)\n",
    "TP = TOT.iloc[1]\n",
    "RR = TOT.iloc[2]\n",
    "AR = TOT.iloc[3]\n",
    "TW = TOT.iloc[4]\n",
    "print('True Positives ' + str(TP))\n",
    "print('Returned Results ' + str(RR))\n",
    "print('Annotator Results ' + str(AR))\n",
    "print('Total Words ' + str(TW))"
   ]
  },
  {
   "cell_type": "code",
   "execution_count": 42,
   "metadata": {
    "collapsed": false
   },
   "outputs": [
    {
     "name": "stdout",
     "output_type": "stream",
     "text": [
      "0.8360817941952506\n"
     ]
    }
   ],
   "source": [
    "precision = TP / RR\n",
    "recall = TP / AR\n",
    "F1 = 2*((precision*recall)/(precision+recall))\n",
    "print(F1)"
   ]
  }
 ],
 "metadata": {
  "kernelspec": {
   "display_name": "Python 3",
   "language": "python",
   "name": "python3"
  },
  "language_info": {
   "codemirror_mode": {
    "name": "ipython",
    "version": 3
   },
   "file_extension": ".py",
   "mimetype": "text/x-python",
   "name": "python",
   "nbconvert_exporter": "python",
   "pygments_lexer": "ipython3",
   "version": "3.6.8"
  }
 },
 "nbformat": 4,
 "nbformat_minor": 2
}
