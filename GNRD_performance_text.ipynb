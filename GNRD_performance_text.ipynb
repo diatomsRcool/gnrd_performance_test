{
 "cells": [
  {
   "cell_type": "code",
   "execution_count": 243,
   "metadata": {
    "collapsed": false
   },
   "outputs": [
    {
     "name": "stdout",
     "output_type": "stream",
     "text": [
      "219\n"
     ]
    },
    {
     "data": {
      "text/plain": [
       "True"
      ]
     },
     "execution_count": 243,
     "metadata": {},
     "output_type": "execute_result"
    }
   ],
   "source": [
    "#Import all the libraries we need\n",
    "import os\n",
    "import json\n",
    "import pandas as pd\n",
    "\n",
    "#Get a list of all the folders. The name of the folder is also the id number for the data package. Each folder\n",
    "#contains the text of the pdf as a txt file and the json result from GNRD.\n",
    "packages = []\n",
    "annotation_file = open('dryad_results.txt', 'r')\n",
    "next(annotation_file)\n",
    "for line in annotation_file:\n",
    "    row = line.split('\\t')\n",
    "    data_package = row[1]\n",
    "    if data_package in packages:\n",
    "        pass\n",
    "    else:\n",
    "        packages.append(data_package)\n",
    "#packages = next(os.walk('pdf_text'))[1]\n",
    "packages.remove('133')\n",
    "print(len(packages))\n",
    "'110' in packages"
   ]
  },
  {
   "cell_type": "code",
   "execution_count": 244,
   "metadata": {
    "collapsed": false
   },
   "outputs": [],
   "source": [
    "#Iterate over all the folders and grab the json results from each. From the json pick out the verbatim string that\n",
    "#GNRD found and the \"odds\". The higher the odds the more likely the string is an actual name.\n",
    "gnrd_results = {}\n",
    "tot_words = {}\n",
    "for p in packages:\n",
    "    gnrd_names = []\n",
    "    if p != '133':\n",
    "        [data_file] = [x for x in os.listdir('pdf_text/' + p) if x.endswith(\".json\")]\n",
    "        data = open('pdf_text/' + p + '/' + data_file,'r')\n",
    "        result = json.load(data)\n",
    "        metadata = result['metadata']\n",
    "        total_words = metadata['total_words']\n",
    "        names = result['names']\n",
    "        if names == None:\n",
    "            pass\n",
    "        else:\n",
    "            for n in names:\n",
    "                string = n['verbatim']\n",
    "                try:\n",
    "                    odds = n['odds']\n",
    "                except KeyError:\n",
    "                    odds = 0\n",
    "                gnrd_names.append(tuple([string,odds]))\n",
    "        gnrd_results[p] = gnrd_names\n",
    "        tot_words[p] = total_words\n",
    "#print(gnrd_results['350'])"
   ]
  },
  {
   "cell_type": "code",
   "execution_count": 245,
   "metadata": {
    "collapsed": true
   },
   "outputs": [],
   "source": [
    "#Initialize the dictionary for the human annotator data\n",
    "annotator_results = {}\n",
    "for p in packages:\n",
    "    annotator_results[p]=[]"
   ]
  },
  {
   "cell_type": "code",
   "execution_count": 246,
   "metadata": {
    "collapsed": false
   },
   "outputs": [
    {
     "name": "stdout",
     "output_type": "stream",
     "text": [
      "completed successfully\n"
     ]
    }
   ],
   "source": [
    "#Read the file that contains the names found by the human annotators. Go over every row of the file and create a\n",
    "#dictionary using the data package ID number as the key and a list of the name strings as the value.\n",
    "# the name string is in a tuple with the type of string, i.e. scientific or vernacular name\n",
    "annotation_file.seek(0)\n",
    "next(annotation_file)\n",
    "for line in annotation_file:\n",
    "    row = line.split('\\t')\n",
    "    string = row[0]\n",
    "    data_package = row[1]\n",
    "    source_type = row[2]\n",
    "    source = row[3]\n",
    "    string_type = row[6]\n",
    "    file_type = row[7]#this is wrong for the publication files\n",
    "    if source_type == 'data' or source == 'GNRD_1':\n",
    "        continue\n",
    "    else:\n",
    "        try:\n",
    "            ls = annotator_results[data_package]\n",
    "        except KeyError:\n",
    "            print('possible missing data package')\n",
    "            print(row)\n",
    "        ls.append(tuple([string,string_type]))\n",
    "        annotator_results[data_package] = ls\n",
    "print('completed successfully')\n",
    "#print(annotator_results['350'])"
   ]
  },
  {
   "cell_type": "code",
   "execution_count": 247,
   "metadata": {
    "collapsed": false
   },
   "outputs": [
    {
     "name": "stdout",
     "output_type": "stream",
     "text": [
      "    data_package true_positives returned_results annotator_results precision  \\\n",
      "0              2            106              113               106  0.938053   \n",
      "1              6              0                0                 0      NULL   \n",
      "2             12              0                1                 0      NULL   \n",
      "3             18              3               14                56  0.214286   \n",
      "4             22            144              234               153  0.615385   \n",
      "5             29            137              144               137  0.951389   \n",
      "6             39             50               78                56  0.641026   \n",
      "7             45             11               37                17  0.297297   \n",
      "8             51             39               83               109   0.46988   \n",
      "9             56              1                5                 2       0.2   \n",
      "10            61              3                7                 3  0.428571   \n",
      "11            67              0                2                 1         0   \n",
      "12            78              0               27                24         0   \n",
      "13            84              4               18                13  0.222222   \n",
      "14            88              1                4                28      0.25   \n",
      "15            94             46              109                64  0.422018   \n",
      "16           100             84              137               128  0.613139   \n",
      "17           104              7               21                13  0.333333   \n",
      "18           110             21               67                54  0.313433   \n",
      "19           117              5                9                 5  0.555556   \n",
      "20           121             22               67                29  0.328358   \n",
      "21           127             11               28                18  0.392857   \n",
      "22           137              4               32                19     0.125   \n",
      "23           143             11               40                24     0.275   \n",
      "24           149              3               13                 9  0.230769   \n",
      "25           153            163              455               206  0.358242   \n",
      "26           160              1                2                 1       0.5   \n",
      "27           166              0                0                 0      NULL   \n",
      "28           170           2996             3683              3527  0.813467   \n",
      "29           176              3                3                 3         1   \n",
      "..           ...            ...              ...               ...       ...   \n",
      "189         1316              2               10                 3       0.2   \n",
      "190         1326             37               75                45  0.493333   \n",
      "191         1332             72              162               150  0.444444   \n",
      "192         1338              2                8                 3      0.25   \n",
      "193         1349              3               14                 6  0.214286   \n",
      "194         1359             23               59               210  0.389831   \n",
      "195         1365             14               24                19  0.583333   \n",
      "196         1371             15               30                19       0.5   \n",
      "197         1375              0                5                 4         0   \n",
      "198         1381              1                5                 5       0.2   \n",
      "199         1388              2                5                 3       0.4   \n",
      "200         1392              5               13                10  0.384615   \n",
      "201         1398              8               19                16  0.421053   \n",
      "202         1404              5               10                 9       0.5   \n",
      "203         1414              7               16                10    0.4375   \n",
      "204         1420              7               21                16  0.333333   \n",
      "205         1431              1                3                 3  0.333333   \n",
      "206         1437              5               15                12  0.333333   \n",
      "207         1441              6               27                 8  0.222222   \n",
      "208         1447              9               19                13  0.473684   \n",
      "209         1453              0                0                 0      NULL   \n",
      "210         1457              9               28                19  0.321429   \n",
      "211         1463             44               90                56  0.488889   \n",
      "212         1469              9               26                12  0.346154   \n",
      "213         1473              7               15                12  0.466667   \n",
      "214         1480             42               68                52  0.617647   \n",
      "215         1502              4                6                 5  0.666667   \n",
      "216         1508              4               15                 8  0.266667   \n",
      "217         1519              3               11                 3  0.272727   \n",
      "218         1523              0               25                 0      NULL   \n",
      "\n",
      "        recall         F1 total_words  \n",
      "0            1   0.968037        7020  \n",
      "1         NULL       NULL        3637  \n",
      "2         NULL       NULL        6530  \n",
      "3    0.0535714  0.0857143        3037  \n",
      "4     0.941176   0.744186        9253  \n",
      "5            1   0.975089        8673  \n",
      "6     0.892857   0.746269        9714  \n",
      "7     0.647059   0.407407        7521  \n",
      "8     0.357798    0.40625       11858  \n",
      "9          0.5   0.285714        5143  \n",
      "10           1        0.6        2569  \n",
      "11           0       NULL        7144  \n",
      "12           0       NULL        5315  \n",
      "13    0.307692   0.258065        5425  \n",
      "14   0.0357143     0.0625        5324  \n",
      "15     0.71875   0.531792        7060  \n",
      "16     0.65625   0.633962        7888  \n",
      "17    0.538462   0.411765        9477  \n",
      "18    0.388889   0.347107        7931  \n",
      "19           1   0.714286        6421  \n",
      "20    0.758621   0.458333        7468  \n",
      "21    0.611111   0.478261        7379  \n",
      "22    0.210526   0.156863        3090  \n",
      "23    0.458333    0.34375        3816  \n",
      "24    0.333333   0.272727        8113  \n",
      "25    0.791262   0.493192       14729  \n",
      "26           1   0.666667        5218  \n",
      "27        NULL       NULL        3710  \n",
      "28    0.849447   0.831068       16803  \n",
      "29           1          1        2308  \n",
      "..         ...        ...         ...  \n",
      "189   0.666667   0.307692        6944  \n",
      "190   0.822222   0.616667        7848  \n",
      "191       0.48   0.461538       14625  \n",
      "192   0.666667   0.363636        6923  \n",
      "193        0.5        0.3        7320  \n",
      "194   0.109524   0.171004        5824  \n",
      "195   0.736842   0.651163        8545  \n",
      "196   0.789474   0.612245        7643  \n",
      "197          0       NULL        7019  \n",
      "198        0.2        0.2        3461  \n",
      "199   0.666667        0.5        6944  \n",
      "200        0.5   0.434783       10183  \n",
      "201        0.5   0.457143        5099  \n",
      "202   0.555556   0.526316        5799  \n",
      "203        0.7   0.538462        7455  \n",
      "204     0.4375   0.378378        8571  \n",
      "205   0.333333   0.333333        3824  \n",
      "206   0.416667    0.37037        2992  \n",
      "207       0.75   0.342857        8055  \n",
      "208   0.692308     0.5625        5351  \n",
      "209       NULL       NULL        5148  \n",
      "210   0.473684   0.382979        7594  \n",
      "211   0.785714    0.60274        5996  \n",
      "212       0.75   0.473684        3317  \n",
      "213   0.583333   0.518519        2839  \n",
      "214   0.807692        0.7        6711  \n",
      "215        0.8   0.727273        3769  \n",
      "216        0.5   0.347826        8205  \n",
      "217          1   0.428571        7782  \n",
      "218       NULL       NULL        8626  \n",
      "\n",
      "[219 rows x 8 columns]\n"
     ]
    }
   ],
   "source": [
    "#Let's compare the list of names returned by GNRD with the list of names returned by the annotators\n",
    "#for now, let's ignore the vernacular names in the annotator data\n",
    "\n",
    "df = pd.DataFrame(columns=['data_package','true_positives','returned_results','annotator_results','precision',\n",
    "                           'recall','F1','total_words'])\n",
    "\n",
    "for p in packages:\n",
    "    #grab the list for the data package from the gnrd results and the annotator results.\n",
    "    #separate the name strings from the odds value in the gnrd list and the string type in the annotator list\n",
    "    gnrd = gnrd_results[p]\n",
    "    human = annotator_results[p]\n",
    "    gnrd_string = []\n",
    "    for n,s in gnrd:\n",
    "        gnrd_string.append(n)\n",
    "    gnrd_set = set(gnrd_string)\n",
    "    human_string = []\n",
    "    for n,s in human:\n",
    "        if s != 'vernacular': #lets ignore vernacular names for the moment\n",
    "            human_string.append(n)\n",
    "    human_set = set(human_string)\n",
    "    #now we have a set of name strings for gnrd and a set for the annotators\n",
    "    #let's compare them\n",
    "    g = len(gnrd_set) #total strings returned by GNRD\n",
    "    h = len(human_set) #total strings returned by annotator\n",
    "    overlap_set = gnrd_set.intersection(human_set) #this is the set of strings that are in the gnrd and annotator lists\n",
    "    o = len(overlap_set)\n",
    "    gnrd_only = gnrd_set.difference(human_set) #what is in gnrd list that is not in annotator list - false positives\n",
    "    human_only = human_set.difference(gnrd_set) #what is in annotator list that is not in gnrd list - false negatives\n",
    "    go = len(gnrd_only)\n",
    "    ho = len(human_only)\n",
    "    if go + o == g and ho + o == h: #adding a sanity check\n",
    "        pass\n",
    "    else:\n",
    "        print('problem')\n",
    "    if g == 0 or h == 0:\n",
    "        precision = 'NULL'\n",
    "        recall = 'NULL'\n",
    "        F1 = 'NULL'\n",
    "    else:\n",
    "        precision = o / g\n",
    "        recall = o / h\n",
    "        if precision == 0 and recall == 0:\n",
    "            F1 = 'NULL'\n",
    "        else:\n",
    "            F1 = 2*((precision*recall)/(precision+recall))\n",
    "    #print(df)\n",
    "    y = {'data_package':p,'true_positives':o,'returned_results':g,'annotator_results':h,\n",
    "                    'precision':precision,'recall':recall,'F1':F1,'total_words':tot_words[p]}\n",
    "    df = df.append(y,ignore_index=True)\n",
    "print(df)"
   ]
  },
  {
   "cell_type": "code",
   "execution_count": 248,
   "metadata": {
    "collapsed": false
   },
   "outputs": [
    {
     "name": "stdout",
     "output_type": "stream",
     "text": [
      "data_package         2612182229394551566167788488941001041101171211...\n",
      "true_positives                                                    6367\n",
      "returned_results                                                 11632\n",
      "annotator_results                                                 9786\n",
      "total_words                                                    1589064\n",
      "dtype: object\n",
      "6367\n",
      "11632\n",
      "9786\n",
      "1589064\n"
     ]
    }
   ],
   "source": [
    "#Now we have a dataframe that contains performance data for each pdf \n",
    "#let's calculate performance overall\n",
    "TOT = df.sum(axis=0)\n",
    "print(TOT)\n",
    "TP = TOT.iloc[1]\n",
    "RR = TOT.iloc[2]\n",
    "AR = TOT.iloc[3]\n",
    "TW = TOT.iloc[4]\n",
    "print(TP)\n",
    "print(RR)\n",
    "print(AR)\n",
    "print(TW)"
   ]
  },
  {
   "cell_type": "code",
   "execution_count": 249,
   "metadata": {
    "collapsed": false
   },
   "outputs": [
    {
     "name": "stdout",
     "output_type": "stream",
     "text": [
      "0.5945466430105518\n"
     ]
    }
   ],
   "source": [
    "precision = TP / RR\n",
    "recall = TP / AR\n",
    "F1 = 2*((precision*recall)/(precision+recall))\n",
    "print(F1)"
   ]
  }
 ],
 "metadata": {
  "kernelspec": {
   "display_name": "Python 3",
   "language": "python",
   "name": "python3"
  },
  "language_info": {
   "codemirror_mode": {
    "name": "ipython",
    "version": 3
   },
   "file_extension": ".py",
   "mimetype": "text/x-python",
   "name": "python",
   "nbconvert_exporter": "python",
   "pygments_lexer": "ipython3",
   "version": "3.6.8"
  }
 },
 "nbformat": 4,
 "nbformat_minor": 2
}
